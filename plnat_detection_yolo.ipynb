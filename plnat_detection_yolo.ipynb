{
 "cells": [
  {
   "cell_type": "code",
   "execution_count": null,
   "metadata": {
    "id": "q0c-WVFgtJmt"
   },
   "outputs": [],
   "source": [
    "# import shutil\n",
    "# shutil.rmtree('/content/dd')"
   ]
  },
  {
   "cell_type": "code",
   "execution_count": null,
   "metadata": {
    "colab": {
     "base_uri": "https://localhost:8080/"
    },
    "executionInfo": {
     "elapsed": 14191,
     "status": "ok",
     "timestamp": 1669941018689,
     "user": {
      "displayName": "이힘찬",
      "userId": "10220646054598307609"
     },
     "user_tz": -540
    },
    "id": "pdGJ2DuYkJQC",
    "outputId": "0f1e273a-c102-488b-999b-17bd4f4530ad"
   },
   "outputs": [],
   "source": [
    "# 데이터셋 다운로드 (roboflow에 있는 plant_doc)\n",
    "%cd /content/drive/Mydrive/yolo\n",
    "!curl -L \"https://public.roboflow.com/ds/ejdyVTQDIi?key=pb8i7HWV4K\" > roboflow.zip; unzip roboflow.zip; rm roboflow.zip"
   ]
  },
  {
   "cell_type": "code",
   "execution_count": null,
   "metadata": {
    "id": "9J_QZgcVoFqf"
   },
   "outputs": [],
   "source": [
    "from google.colab import drive\n",
    "drive.mount('/content/drive')"
   ]
  },
  {
   "cell_type": "code",
   "execution_count": null,
   "metadata": {
    "id": "M_lE5ZK-fwuO"
   },
   "outputs": [],
   "source": [
    "# yolo - git으로 다운받기\n",
    "%cd /content/drive/Mydrive/yolo\n",
    "!git clone https://github.com/ultralytics/yolov5.git"
   ]
  },
  {
   "cell_type": "code",
   "execution_count": null,
   "metadata": {
    "colab": {
     "base_uri": "https://localhost:8080/"
    },
    "executionInfo": {
     "elapsed": 4783,
     "status": "ok",
     "timestamp": 1669951045373,
     "user": {
      "displayName": "이힘찬",
      "userId": "10220646054598307609"
     },
     "user_tz": -540
    },
    "id": "Lf5wFQzEgpc5",
    "outputId": "1df5f33a-def6-4a3d-fa15-d6b8979e601b"
   },
   "outputs": [],
   "source": [
    "%cd /content/drive/MyDrive/yolo/yolov5/\n",
    "!pip install -r requirements.txt"
   ]
  },
  {
   "cell_type": "code",
   "execution_count": null,
   "metadata": {
    "colab": {
     "base_uri": "https://localhost:8080/"
    },
    "executionInfo": {
     "elapsed": 265,
     "status": "ok",
     "timestamp": 1669941306487,
     "user": {
      "displayName": "이힘찬",
      "userId": "10220646054598307609"
     },
     "user_tz": -540
    },
    "id": "sqLLhVFdg3HM",
    "outputId": "66560ec0-10f4-46ba-c4dc-038076566b1b"
   },
   "outputs": [],
   "source": [
    "%cat /content/drive/MyDrive/yolo/dataset/data.yaml"
   ]
  },
  {
   "cell_type": "code",
   "execution_count": null,
   "metadata": {
    "colab": {
     "base_uri": "https://localhost:8080/"
    },
    "executionInfo": {
     "elapsed": 399,
     "status": "ok",
     "timestamp": 1669950950129,
     "user": {
      "displayName": "이힘찬",
      "userId": "10220646054598307609"
     },
     "user_tz": -540
    },
    "id": "lgZtHaKWnut3",
    "outputId": "cefd2a48-1790-47bf-cd95-0b91145704d5"
   },
   "outputs": [],
   "source": [
    "# 트레인셋, 검증셋\n",
    "%cd /\n",
    "from glob import glob\n",
    "\n",
    "train_img_list = glob('/content/drive/MyDrive/yolo/dataset/train/images/*.jpg')\n",
    "val_img_list = glob('/content/drive/MyDrive/yolo/dataset/test/images/*.jpg')\n",
    "print(len(train_img_list))\n",
    "print(len(val_img_list))\n"
   ]
  },
  {
   "cell_type": "code",
   "execution_count": null,
   "metadata": {
    "id": "McdlOby0RL2F"
   },
   "outputs": [],
   "source": [
    "with open('/content/drive/MyDrive/yolo/dataset/train.txt', 'w') as f:\n",
    "  f.write('\\n'.join(train_img_list)+'\\n')\n",
    "\n",
    "with open('/content/drive/MyDrive/yolo/dataset/val.txt', 'w') as f:\n",
    "  f.write('\\n'.join(val_img_list)+'\\n')"
   ]
  },
  {
   "cell_type": "code",
   "execution_count": null,
   "metadata": {
    "colab": {
     "base_uri": "https://localhost:8080/"
    },
    "executionInfo": {
     "elapsed": 287,
     "status": "ok",
     "timestamp": 1669942820963,
     "user": {
      "displayName": "이힘찬",
      "userId": "10220646054598307609"
     },
     "user_tz": -540
    },
    "id": "Mv9ptMZ3RMBt",
    "outputId": "600676e3-1a7b-45f4-9ac6-9f4363e7304a"
   },
   "outputs": [],
   "source": [
    "# 레이블 명 지정\n",
    "import yaml\n",
    "\n",
    "with open('/content/drive/MyDrive/yolo/dataset/data.yaml', 'r') as f:\n",
    "  data = yaml.full_load(f)\n",
    "\n",
    "print(data)\n",
    "\n",
    "data['train'] = '/content/drive/MyDrive/yolo/dataset/train.txt'\n",
    "data['val'] = '/content/drive/MyDrive/yolo/dataset/val.txt'\n",
    "\n",
    "with open('/content/drive/MyDrive/yolo/dataset/data.yaml', 'w') as f:\n",
    "  yaml.dump(data,f)\n",
    "\n",
    "print(data)"
   ]
  },
  {
   "cell_type": "code",
   "execution_count": null,
   "metadata": {
    "colab": {
     "base_uri": "https://localhost:8080/"
    },
    "executionInfo": {
     "elapsed": 1826597,
     "status": "ok",
     "timestamp": 1669944730704,
     "user": {
      "displayName": "이힘찬",
      "userId": "10220646054598307609"
     },
     "user_tz": -540
    },
    "id": "FaCJL6JzoVVA",
    "outputId": "9c881342-3fb2-4183-c8d5-378cb3585d87"
   },
   "outputs": [],
   "source": [
    "# 학습시키기\n",
    "%cd /content/drive/MyDrive/yolo/yolov5/\n",
    "\n",
    "!python train.py --img 416 --batch 16 --epochs 30 --data /content/drive/MyDrive/yolo/dataset/data.yaml --cfg ./models/yolov5s.yaml --weights yolov5s.pt --name plant_yolov5s_results"
   ]
  },
  {
   "cell_type": "code",
   "execution_count": null,
   "metadata": {
    "colab": {
     "base_uri": "https://localhost:8080/"
    },
    "executionInfo": {
     "elapsed": 7661,
     "status": "ok",
     "timestamp": 1669951157361,
     "user": {
      "displayName": "이힘찬",
      "userId": "10220646054598307609"
     },
     "user_tz": -540
    },
    "id": "wHYFMJk2WoL5",
    "outputId": "3b797af0-6698-4949-f7dd-d1e7e4548325"
   },
   "outputs": [],
   "source": [
    "# 이미지로 테스트\n",
    "from IPython.display import Image\n",
    "import os\n",
    "\n",
    "%cd /content/drive/MyDrive/yolo/yolov5/\n",
    "val_img_path = val_img_list[-1]\n",
    "\n",
    "!python detect.py --weights /content/drive/MyDrive/yolo/yolov5/runs/train/plant_yolov5s_results/weights/best.pt --img 416 --conf 0.5 --source \"{val_img_path}\""
   ]
  },
  {
   "cell_type": "code",
   "execution_count": null,
   "metadata": {
    "id": "PfQI5lUShP-I"
   },
   "outputs": [],
   "source": [
    "# 비디오로 테스트 해보기\n",
    "!python detect.py --source ../strawberry_video.mp4 --weights /content/drive/MyDrive/yolo/yolov5/runs/train/plant_yolov5s_results/weights/best.pt"
   ]
  }
 ],
 "metadata": {
  "accelerator": "GPU",
  "colab": {
   "authorship_tag": "ABX9TyPkhHY9BWOr6a4W3WQT2RV1",
   "mount_file_id": "1EeAtqQ1OcPp7EF1Lao_2qIjr_Wh0FJS1",
   "provenance": []
  },
  "gpuClass": "standard",
  "kernelspec": {
   "display_name": "Python 3 (ipykernel)",
   "language": "python",
   "name": "python3"
  },
  "language_info": {
   "codemirror_mode": {
    "name": "ipython",
    "version": 3
   },
   "file_extension": ".py",
   "mimetype": "text/x-python",
   "name": "python",
   "nbconvert_exporter": "python",
   "pygments_lexer": "ipython3",
   "version": "3.9.13"
  }
 },
 "nbformat": 4,
 "nbformat_minor": 1
}

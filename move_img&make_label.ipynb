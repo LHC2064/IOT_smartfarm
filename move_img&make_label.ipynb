{
 "cells": [
  {
   "cell_type": "markdown",
   "id": "76bbc501",
   "metadata": {},
   "source": [
    "## 이미지 한 폴더로 옮기기"
   ]
  },
  {
   "cell_type": "code",
   "execution_count": 1,
   "id": "6cd5dd04",
   "metadata": {},
   "outputs": [],
   "source": [
    "import os\n",
    "import shutil\n",
    "import time"
   ]
  },
  {
   "cell_type": "code",
   "execution_count": 20,
   "id": "3352f01f",
   "metadata": {},
   "outputs": [],
   "source": [
    "def read_all_file(path):\n",
    "    output = os.listdir(path)\n",
    "    file_list = []\n",
    "\n",
    "    for i in output:\n",
    "        if os.path.isdir(path+\"/\"+i):\n",
    "            jpg_file = ''\n",
    "            for file in read_all_file(path+\"/\"+i):\n",
    "                if file[-3:]=='jpg':\n",
    "                    file_list.extend([file])\n",
    "        elif os.path.isfile(path+\"/\"+i):\n",
    "            file_list.append(path+\"/\"+i)\n",
    "\n",
    "    return file_list\n",
    "\n",
    "def copy_all_file(file_list, new_path):\n",
    "    for src_path in file_list:\n",
    "        file = src_path.split(\"/\")[-1]\n",
    "        shutil.copyfile(src_path, new_path+\"/\"+file)\n",
    "        print(\"파일 {} 작업 완료\".format(file)) # 작업한 파일명 출력\n",
    "        "
   ]
  },
  {
   "cell_type": "code",
   "execution_count": null,
   "id": "6702ee31",
   "metadata": {},
   "outputs": [],
   "source": [
    "start_time = time.time() # 작업 시작 시간 \n",
    "\n",
    "src_path = \"C:/Users/user/Downloads/data/train\" # 기존 폴더 경로\n",
    "new_path = \"C:/Users/user/Downloads/data/train_img\" # 옮길 폴더 경로\n",
    "\n",
    "file_list = read_all_file(src_path)\n",
    "copy_all_file(file_list, new_path)\n",
    "\n",
    "print(\"=\" * 40)\n",
    "print(\"러닝 타임 : {}\".format(time.time() - start_time)) # 총 소요시간 계산"
   ]
  },
  {
   "cell_type": "markdown",
   "id": "0d7b40fe",
   "metadata": {},
   "source": [
    "## 레이블txt 만들기"
   ]
  },
  {
   "cell_type": "code",
   "execution_count": 25,
   "id": "976e5eb8",
   "metadata": {},
   "outputs": [],
   "source": [
    "import glob\n",
    "import os\n",
    "import json \n",
    "from collections import defaultdict"
   ]
  },
  {
   "cell_type": "code",
   "execution_count": 64,
   "id": "7bb020eb",
   "metadata": {},
   "outputs": [],
   "source": [
    "json_path_list = glob.glob('C:/Users/user/Downloads/data/train/*/*.json')\n",
    "a = []\n",
    "ids = dict()\n",
    "label = dict()\n",
    "crops = defaultdict(list)\n",
    "parts = defaultdict(list)\n",
    "parts_label = defaultdict(list)\n",
    "\n",
    "for i, json_path in enumerate(json_path_list):\n",
    "    with open(json_path, 'r') as f:\n",
    "        json_data = json.load(f)\n",
    "    img_name = json_data['description']['image'][:-4]\n",
    "    label_path = 'C:/Users/user/Downloads/data/label/'+img_name+'.txt'\n",
    "    is_disease = json_data['description']['task'] #정상이면 =0, 아니면 1,2\n",
    "    crop = json_data['annotations']['crop']\n",
    "    \n",
    "    f=open(label_path,'w')\n",
    "    bbox = json_data['annotations']['bbox'][0]\n",
    "    xcenter = (bbox['x'] +bbox['w']/2) / json_data['description']['width']\n",
    "    ycenter = (bbox['y'] + bbox['h']/2) / json_data['description']['height']\n",
    "    w =  bbox['w'] /json_data['description']['width']\n",
    "    h = bbox['h'] / json_data['description']['height']\n",
    "    res = str(crop) + ' ' + str(xcenter) + ' ' + str(ycenter) + ' ' + str(w) + ' ' +  str(h) + '\\n'\n",
    "    f.write(res)\n",
    "    # 비정상인 경우\n",
    "    if is_disease !=0:\n",
    "        for part in json_data['annotations']['part']:\n",
    "            xcenter = (part['x'] +part['w']/2) / json_data['description']['width']\n",
    "            ycenter = (part['y'] + part['h']/2) / json_data['description']['height']\n",
    "            w =  part['w'] /json_data['description']['width']\n",
    "            h = part['h'] / json_data['description']['height']\n",
    "            res = str(0) + ' ' + str(xcenter) + ' ' + str(ycenter) + ' ' + str(w) + ' ' +  str(h) + '\\n'\n",
    "            f.write(res)\n",
    "    f.close()"
   ]
  },
  {
   "cell_type": "code",
   "execution_count": 70,
   "id": "7e03baf9",
   "metadata": {},
   "outputs": [
    {
     "data": {
      "text/plain": [
       "{'description': {'date': '20211102',\n",
       "  'image': '67678.jpg',\n",
       "  'task': 2,\n",
       "  'width': 384,\n",
       "  'time': '1141',\n",
       "  'region': 0,\n",
       "  'height': 512},\n",
       " 'annotations': {'area': 3,\n",
       "  'disease': 'b6',\n",
       "  'grow': 13,\n",
       "  'bbox': [{'x': 113.83978174603175,\n",
       "    'h': 424.3880208333333,\n",
       "    'y': 41.015795510912696,\n",
       "    'w': 184.9896453373016}],\n",
       "  'part': [{'x': 124.72152467757937,\n",
       "    'h': 404.29864211309524,\n",
       "    'y': 51.06048099578373,\n",
       "    'id': 0,\n",
       "    'w': 161.55203683035714}],\n",
       "  'risk': 1,\n",
       "  'crop': 5}}"
      ]
     },
     "execution_count": 70,
     "metadata": {},
     "output_type": "execute_result"
    }
   ],
   "source": [
    "json_data"
   ]
  },
  {
   "cell_type": "code",
   "execution_count": 41,
   "id": "810781fc",
   "metadata": {},
   "outputs": [
    {
     "name": "stdout",
     "output_type": "stream",
     "text": [
      "{'x': 113.83978174603175, 'h': 424.3880208333333, 'y': 41.015795510912696, 'w': 184.9896453373016}\n"
     ]
    }
   ],
   "source": [
    "temp_box = json_data['annotations']['bbox'][0]\n",
    "print(temp_box)\n",
    "xcenter = (temp_box['x'] +temp_box['w']/2) / json_data['description']['width']\n",
    "ycenter = (temp_box['y'] + temp_box['h']/2) / json_data['description']['height']\n",
    "w =  temp_box['w'] /json_data['description']['width']\n",
    "h = temp_box['h'] / json_data['description']['height']"
   ]
  },
  {
   "cell_type": "code",
   "execution_count": 47,
   "id": "385d0c34",
   "metadata": {},
   "outputs": [
    {
     "name": "stdout",
     "output_type": "stream",
     "text": [
      "0.5373296989965691\n",
      "0.4945504022023034\n",
      "0.4817438680658896\n",
      "0.8288828531901041\n"
     ]
    }
   ],
   "source": [
    "print(xcenter)\n",
    "print(ycenter)\n",
    "print(w)\n",
    "print(h)"
   ]
  },
  {
   "cell_type": "code",
   "execution_count": null,
   "id": "816f02e5",
   "metadata": {},
   "outputs": [],
   "source": [
    "json_path_list = glob.glob('C:/Users/user/Downloads/data/train_origin/*/*.json')\n",
    "strawberry=[]\n",
    "for i, json_path in enumerate(json_path_list):\n",
    "    with open(json_path, 'r') as f:\n",
    "        json_data = json.load(f)\n",
    "    img_name = json_data['description']['image'][:-4]\n",
    "    is_disease = json_data['description']['task'] #정상이면 =0, 아니면 1,2\n",
    "    crop = json_data['annotations']['crop']\n",
    "    disease = json_data['annotations']['disease']\n",
    "\n",
    "    # 비정상인 경우\n",
    "    if crop == 1:\n",
    "        strawberry.append(img_name)\n",
    "        print(img_name, disease)"
   ]
  }
 ],
 "metadata": {
  "kernelspec": {
   "display_name": "Python 3 (ipykernel)",
   "language": "python",
   "name": "python3"
  },
  "language_info": {
   "codemirror_mode": {
    "name": "ipython",
    "version": 3
   },
   "file_extension": ".py",
   "mimetype": "text/x-python",
   "name": "python",
   "nbconvert_exporter": "python",
   "pygments_lexer": "ipython3",
   "version": "3.9.13"
  }
 },
 "nbformat": 4,
 "nbformat_minor": 5
}
